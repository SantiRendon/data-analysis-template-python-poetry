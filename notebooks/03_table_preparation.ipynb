{
 "cells": [
  {
   "cell_type": "markdown",
   "metadata": {},
   "source": [
    "# Dataset Split\n",
    "This notebook performs a split of the dataset into smaller or logical parts to facilitate database population or further processing."
   ]
  },
  {
   "cell_type": "markdown",
   "metadata": {},
   "source": [
    "## Library Imports\n",
    "\n",
    "We import the necessary libraries for data analysis and preprocessing."
   ]
  },
  {
   "cell_type": "code",
   "execution_count": null,
   "metadata": {},
   "outputs": [],
   "source": [
    "import pandas as pd\n",
    "import csv\n",
    "import os"
   ]
  },
  {
   "cell_type": "markdown",
   "metadata": {},
   "source": [
    "## Dataset Loading\n",
    "Load the dataset from a CSV file for analysis."
   ]
  },
  {
   "cell_type": "code",
   "execution_count": null,
   "metadata": {},
   "outputs": [],
   "source": [
    "## Dataset Loading\n",
    "\n",
    "# Define the relative path to the data file\n",
    "data_path = '../data/raw/dataset.csv'\n",
    "\n",
    "# Load the dataset\n",
    "try:\n",
    "    # Attempt to read with UTF-8 encoding first\n",
    "    df = pd.read_csv(data_path, encoding='utf-8') \n",
    "except UnicodeDecodeError:\n",
    "    try:\n",
    "        # Fallback to Latin-1 encoding if UTF-8 fails\n",
    "        df = pd.read_csv(data_path, encoding='latin1') \n",
    "    except Exception as e:\n",
    "        print(f\"Error loading CSV file: {e}\")\n",
    "        df = None  # Indicate failure by setting df to None\n",
    "\n",
    "# Check if the dataset loaded correctly\n",
    "if df is not None:\n",
    "    print(f\"Dataset loaded successfully. Shape: {df.shape}\")\n",
    "else:\n",
    "    print(\"Error loading dataset. Please verify the file path and encoding.\")\n"
   ]
  },
  {
   "cell_type": "code",
   "execution_count": null,
   "metadata": {},
   "outputs": [],
   "source": [
    "df.head()"
   ]
  },
  {
   "cell_type": "markdown",
   "metadata": {},
   "source": [
    "# Extract Unique Values for Lookup Table\n",
    "\n",
    "This step extracts unique combinations of identifiers and descriptive labels from the dataset, which can be used to populate a normalized lookup table in the database."
   ]
  },
  {
   "cell_type": "code",
   "execution_count": null,
   "metadata": {},
   "outputs": [],
   "source": [
    "# Extract unique key-description pairs for lookup/reference tables\n",
    "df_lookup = df[['col1', 'col2']].drop_duplicates()\n",
    "\n",
    "df_lookup"
   ]
  },
  {
   "cell_type": "markdown",
   "metadata": {},
   "source": [
    "# Export Cleaned Data to CSV\n",
    "The resulting DataFrame is exported as a CSV file into the /data/data_split/ directory.\n",
    "\n",
    "This allows for better modularity and simplifies loading the data into other systems such as relational databases or analytical pipelines."
   ]
  },
  {
   "cell_type": "code",
   "execution_count": null,
   "metadata": {},
   "outputs": [],
   "source": [
    "df_lookup.to_csv(\n",
    "    path_or_buf='../data/tables/table_lookup.csv', \n",
    "    sep=',',\n",
    "    na_rep='',\n",
    "    header=True,\n",
    "    index=False,\n",
    "    encoding='utf-8',\n",
    "    quoting=csv.QUOTE_MINIMAL,\n",
    "    lineterminator=os.linesep,\n",
    "    quotechar='\"',\n",
    "    decimal='.',\n",
    "    errors='strict'\n",
    ")"
   ]
  }
 ],
 "metadata": {
  "kernelspec": {
   "display_name": "Python 3",
   "language": "python",
   "name": "python3"
  },
  "language_info": {
   "codemirror_mode": {
    "name": "ipython",
    "version": 3
   },
   "file_extension": ".py",
   "mimetype": "text/x-python",
   "name": "python",
   "nbconvert_exporter": "python",
   "pygments_lexer": "ipython3",
   "version": "3.12.4"
  }
 },
 "nbformat": 4,
 "nbformat_minor": 2
}
