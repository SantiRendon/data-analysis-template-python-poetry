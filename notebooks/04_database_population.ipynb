{
 "cells": [
  {
   "cell_type": "markdown",
   "metadata": {},
   "source": [
    "# Database Population\n",
    "\n",
    "In this notebook, we connect to a relational database and insert cleaned and structured data. This process enables organized storage and facilitates efficient access for future analysis or reporting tasks."
   ]
  },
  {
   "cell_type": "code",
   "execution_count": null,
   "metadata": {},
   "outputs": [],
   "source": [
    "import pandas as pd\n",
    "import mysql.connector as sql\n",
    "import csv\n",
    "import os"
   ]
  },
  {
   "cell_type": "markdown",
   "metadata": {},
   "source": [
    "## Dynamic CSV Loading from /data/tables"
   ]
  },
  {
   "cell_type": "code",
   "execution_count": null,
   "metadata": {},
   "outputs": [],
   "source": [
    "# Paths to CSV files\n",
    "paths = {\n",
    "    # 'main_dataset': 'data/processed/main_dataset.csv',\n",
    "    'department': 'data/tables/department.csv',\n",
    "}\n",
    "\n",
    "# Dictionary to store loaded DataFrames\n",
    "dfs = {}\n",
    "\n",
    "for name, path in paths.items():\n",
    "    try:\n",
    "        # Try loading with UTF-8 encoding\n",
    "        df = pd.read_csv(path, encoding='utf-8')\n",
    "    except UnicodeDecodeError:\n",
    "        try:\n",
    "            # Fallback to Latin1 encoding if UTF-8 fails\n",
    "            df = pd.read_csv(path, encoding='latin1')\n",
    "        except Exception as e:\n",
    "            print(f\"❌ Error loading '{name}' from '{path}': {e}\")\n",
    "            df = None\n",
    "    dfs[name] = df\n",
    "\n",
    "# Print summary of loaded files\n",
    "print(\"\\n📦 Summary of loaded files:\")\n",
    "for name, df in dfs.items():\n",
    "    if df is not None:\n",
    "        print(f\"✅ '{name}' loaded successfully. Rows: {df.shape[0]}, Columns: {df.shape[1]}\")\n",
    "    else:\n",
    "        print(f\"⚠️ '{name}' failed to load.\")\n"
   ]
  },
  {
   "cell_type": "markdown",
   "metadata": {},
   "source": [
    "## Accessing DataFrames Loaded in the Previous Notebook\n",
    "\n",
    "The DataFrames are stored in the dictionary dfs. You can access each DataFrame to run any pandas commands as usual."
   ]
  },
  {
   "cell_type": "code",
   "execution_count": null,
   "metadata": {},
   "outputs": [],
   "source": [
    "dfs['department'][['COD_ESTADO_DEPTO', 'ESTADO_DEPTO']].head()"
   ]
  },
  {
   "cell_type": "markdown",
   "metadata": {},
   "source": [
    "## Establishing a MySQL Connection\n",
    "\n",
    "To connect to a MySQL server, you need the access credentials (host, user, password, and database). We use the mysql.connector.connect() method to establish the connection."
   ]
  },
  {
   "cell_type": "code",
   "execution_count": null,
   "metadata": {},
   "outputs": [],
   "source": [
    "import mysql.connector as sql\n",
    "\n",
    "# Connect to the database\n",
    "connection = sql.connect(\n",
    "    host=\"localhost\",      # Change to your database host\n",
    "    port=3306,             # Change to your database port\n",
    "    user=\"root\",           # Change to your database user\n",
    "    password=\"root\",   # Change to your user's password\n",
    "    database=\"database\"  # Change to your database name\n",
    ")\n",
    "\n",
    "if connection.is_connected():\n",
    "    print(\"Successfully connected to the database\")\n",
    "\n",
    "# connection.close()\n"
   ]
  },
  {
   "cell_type": "markdown",
   "metadata": {},
   "source": [
    "## Populating the conflicto_armado Database\n",
    "\n",
    "In the following cells, data is loaded into the database from their respective DataFrames."
   ]
  },
  {
   "cell_type": "markdown",
   "metadata": {},
   "source": [
    "### Tabla: Department"
   ]
  },
  {
   "cell_type": "code",
   "execution_count": null,
   "metadata": {},
   "outputs": [],
   "source": [
    "cursor = connection.cursor()\n",
    "\n",
    "df_department = dfs['department']\n",
    "\n",
    "# Iterate over the DataFrame rows\n",
    "for _, row in df_department.iterrows():\n",
    "    try:\n",
    "        query = \"\"\"\n",
    "            INSERT INTO Department (id_department, name_department)\n",
    "            VALUES (%s, %s)\n",
    "        \"\"\"\n",
    "        values = (int(row['COD_ESTADO_DEPTO']), row['ESTADO_DEPTO'])  # Ensure integer type\n",
    "        cursor.execute(query, values)\n",
    "    except Exception as e:\n",
    "        print(f\"❌ Error inserting record with ID {row['COD_ESTADO_DEPTO']}: {e}\")\n",
    "\n",
    "# Commit the changes\n",
    "connection.commit()\n",
    "print(\"✅ Insertion into Department completed.\")\n",
    "\n",
    "cursor.close()\n"
   ]
  }
 ],
 "metadata": {
  "kernelspec": {
   "display_name": "Python 3",
   "language": "python",
   "name": "python3"
  },
  "language_info": {
   "codemirror_mode": {
    "name": "ipython",
    "version": 3
   },
   "file_extension": ".py",
   "mimetype": "text/x-python",
   "name": "python",
   "nbconvert_exporter": "python",
   "pygments_lexer": "ipython3",
   "version": "3.12.4"
  }
 },
 "nbformat": 4,
 "nbformat_minor": 2
}
